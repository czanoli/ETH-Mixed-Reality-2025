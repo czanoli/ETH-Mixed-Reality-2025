{
 "cells": [
  {
   "cell_type": "code",
   "execution_count": null,
   "metadata": {},
   "outputs": [],
   "source": []
  },
  {
   "cell_type": "code",
   "execution_count": 8,
   "metadata": {},
   "outputs": [
    {
     "name": "stdout",
     "output_type": "stream",
     "text": [
      "                       Scene                     Action        Time\n",
      "0                      Login             login the user    5.929509\n",
      "1                    Welcome           welcome the user   16.582690\n",
      "2  Tasks Menu Intro Tutorial              intro message    6.562340\n",
      "3        Tasks Menu Tutorial  choose a manteinance task   30.105700\n",
      "4  Place Door Intro Tutorial              intro message   35.384310\n",
      "5        Place Door Tutorial                 place door   83.929560\n",
      "6        Steps Menu Tutorial             navigate steps   25.423300\n",
      "7       Tasks Menu Challenge  choose a manteinance task   16.316250\n",
      "8       Place Door Challenge             place the door   62.473980\n",
      "9       Steps Menu Challenge             navigate steps  203.316900\n"
     ]
    }
   ],
   "source": [
    "import glob\n",
    "import pandas as pd\n",
    "\n",
    "csv_files = glob.glob('data/timings/*.csv')\n",
    "dfs = []\n",
    "\n",
    "for file in csv_files:\n",
    "    df = pd.read_csv(file)\n",
    "    dfs.append(df)\n",
    "\n",
    "print(dfs[0])"
   ]
  },
  {
   "cell_type": "code",
   "execution_count": null,
   "metadata": {},
   "outputs": [],
   "source": []
  }
 ],
 "metadata": {
  "kernelspec": {
   "display_name": ".venv",
   "language": "python",
   "name": "python3"
  },
  "language_info": {
   "codemirror_mode": {
    "name": "ipython",
    "version": 3
   },
   "file_extension": ".py",
   "mimetype": "text/x-python",
   "name": "python",
   "nbconvert_exporter": "python",
   "pygments_lexer": "ipython3",
   "version": "3.12.7"
  }
 },
 "nbformat": 4,
 "nbformat_minor": 2
}
