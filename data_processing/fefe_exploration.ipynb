{
 "cells": [
  {
   "cell_type": "markdown",
   "metadata": {},
   "source": [
    "## FEFE DATA EXLORATION"
   ]
  },
  {
   "cell_type": "markdown",
   "metadata": {},
   "source": [
    "#### 1. FIX DATASET -> ASSOCIATE COMPONENTS WITH BODE CODE"
   ]
  },
  {
   "cell_type": "code",
   "execution_count": null,
   "metadata": {},
   "outputs": [],
   "source": [
    "# 1 - initial dataframe exploration from chris\n",
    "import pandas as pd\n",
    "datapath = \"../data/raw/componentwise_dataset.xlsx\"\n",
    "df = pd.read_excel(datapath, sheet_name=\"Export\")\n",
    "\n",
    "cols_en = [\n",
    "\"Fault start date (MEL)\",\n",
    "\"Short text (MEL)\",\n",
    "\"Long text (MEL)\",\n",
    "\"Message number (MEL)\",\n",
    "\"Vehicle family (TPL)\",\n",
    "\"Vehicle type (TPL)\",\n",
    "\"Material (CO)\",\n",
    "\"Material reference (MAT)\",\n",
    "\"Material quantity ACTUAL\",\n",
    "\"Material / unit of measure (CO)\",\n",
    "\"WF screen symptom (MEL)\",\n",
    "\"WF-cause-sys-1 (MEL) (H)\",\n",
    "\"WF-cause-sys-2 (MEL) (H)\",\n",
    "\"WF-Cause-Sys-3 (MEL) (H)\",\n",
    "\"WF-Cause-Sys-4 (MEL) (H)\",\n",
    "\"WF-Cause-Sys-5 (MEL) (H)\",\n",
    "\"WF-cause-sys-6 (MEL) (H)\",\n",
    "\"WF cause failure type (MEL)\",\n",
    "\"WF-cause-fix.mass (1-3) (MEL)\",\n",
    "\"Multiple unit / EW (TPL)\",\n",
    "\"Functional location (TPL)\",\n",
    "\"DIN code (H)\",\n",
    "\"Design workstation (location) (MEL)\"\n",
    "]\n",
    "\n",
    "cols_interst = [\n",
    "\"Fault start date (MEL)\",\n",
    "\"Short text (MEL)\",\n",
    "\"Long text (MEL)\",\n",
    "\"Message number (MEL)\",\n",
    "\"Material reference (MAT)\",\n",
    "\"WF cause failure type (MEL)\",\n",
    "\"WF-cause-fix.mass (1-3) (MEL)\",\n",
    "\"Multiple unit / EW (TPL)\",\n",
    "\n",
    "]\n",
    "df = df.loc[:1594]\n",
    "\n",
    "df.columns = cols_en\n",
    "df = df[cols_interst]\n",
    "\n",
    "df.rename(columns={\"Message number (MEL)\" : \"log_number\",\n",
    "                   \"Multiple unit / EW (TPL)\": \"train_number\",\n",
    "                   \"Fault start date (MEL)\" : \"fault_start_date\",\n",
    "                   \"Short text (MEL)\" : \"problem\",\n",
    "                   \"Long text (MEL)\" : \"maintenance_log\",\n",
    "                   \"Material reference (MAT)\": \"material_description\",\n",
    "                   \"WF cause failure type (MEL)\": \"cause_of_failure\",\n",
    "                   \"WF-cause-fix.mass (1-3) (MEL)\": \"maintenance_steps\",\n",
    "                   \"Material reference (MAT)\": \"material_name\"}\n",
    "                   , inplace=True)\n",
    "\n",
    "df[\"fault_start_date\"] = pd.to_datetime(df[\"fault_start_date\"], format=\"%Y-%m-%d %H:%M:%S\")\n",
    "df[\"problem\"] = df[\"problem\"].astype(str)\n",
    "df[\"maintenance_log\"] = df[\"maintenance_log\"].astype(str)\n",
    "df[\"log_number\"] = df[\"log_number\"].astype(int)\n",
    "df[\"train_number\"] = df[\"train_number\"].astype(str)\n",
    "df[\"material_name\"] = df[\"material_name\"].astype(str)\n",
    "df[\"maintenance_steps\"] = df[\"maintenance_steps\"].astype(str)\n",
    "df[\"cause_of_failure\"] = df[\"cause_of_failure\"].astype(str)\n",
    "\n",
    "# Ok it is always the same. Remove the prefix:\n",
    "df[\"train_number\"]= df[\"train_number\"].str[10:]\n",
    "\n",
    "# Reorder columns\n",
    "df = df[[\"train_number\", \"problem\", \"log_number\", \"maintenance_log\", \"fault_start_date\", \n",
    "         \"material_name\", \"maintenance_steps\", \"cause_of_failure\"]]"
   ]
  },
  {
   "cell_type": "code",
   "execution_count": null,
   "metadata": {},
   "outputs": [],
   "source": [
    "# 2 - associate components to bode code\n",
    "components_bode_dict = {\n",
    "    'SICHERHEITSGLAS': '25-351-0224-301',\n",
    "    'ZAHNRIEMENRAD': '25-865-0011-301',\n",
    "    'DREHFALLE': '25-341-0119-101',\n",
    "    'WAHLSCHALTER': '25-714-0034-301',\n",
    "    'TÜRSTEUERUNG': '25-004-1019-301',\n",
    "    'ZAHNRIEMENRAD': '25-865-0011-301'\n",
    "}\n",
    "\n",
    "# keep only rows that have one of these components\n",
    "def search_material_reference(row, search_dict):\n",
    "    for key in search_dict.keys():\n",
    "        if key.lower() in row['material_name'].lower():\n",
    "            return True\n",
    "    return False\n",
    "\n",
    "filtered_df = df[df.apply(lambda row: search_material_reference(row, components_bode_dict), axis=1)]\n",
    "filtered_df = filtered_df.drop_duplicates()\n",
    "\n",
    "# add bode code\n",
    "def add_bode_code(row, search_dict):\n",
    "    for key, code in search_dict.items():\n",
    "        if key.lower() in row['material_name'].lower() or row['maintenance_log'].lower():\n",
    "            return code\n",
    "    return None\n",
    "\n",
    "filtered_df['BODE code'] = filtered_df.apply(lambda row: add_bode_code(row, components_bode_dict), axis=1)\n",
    "print(filtered_df)"
   ]
  },
  {
   "cell_type": "code",
   "execution_count": null,
   "metadata": {},
   "outputs": [],
   "source": [
    "# 3 - save df\n",
    "filtered_df.to_csv(\"../data/interim/final_df.csv\", index=False)"
   ]
  },
  {
   "cell_type": "markdown",
   "metadata": {},
   "source": [
    "#### 2. WORK ON MAINTENANCE LOG COLUMN"
   ]
  },
  {
   "cell_type": "code",
   "execution_count": null,
   "metadata": {},
   "outputs": [],
   "source": [
    "import pandas as pd\n",
    "import json\n",
    "import re\n",
    "\n",
    "df = filtered_df\n",
    "# extract log\n",
    "def extract_logs(maintenance_log):\n",
    "    log_pattern = r'(\\d{2}\\.\\d{2}\\.\\d{4} \\d{2}:\\d{2}:\\d{2}) CET.*Tel\\. \\+(\\d+ \\d{2} \\d{3} \\d{2} \\d{2}).*\\*\\s*(.*)'\n",
    "    matches = re.findall(log_pattern, maintenance_log)\n",
    "    \n",
    "    logs = []\n",
    "    for match in matches:\n",
    "        log = {\n",
    "            \"date_time\": match[0],\n",
    "            \"telephone\": match[1],\n",
    "            \"comment\": match[2].strip(),\n",
    "        }\n",
    "        logs.append(log)\n",
    "    \n",
    "    return logs\n",
    "\n",
    "log_dict = {}\n",
    "for index, row in df.iterrows():\n",
    "    logs = extract_logs(row['maintenance_log'])\n",
    "    for i, log in enumerate(logs):\n",
    "        key = f\"issue_{int(row['log_number'])}_log_{i+1}\"\n",
    "        log_dict[key] = log\n",
    "\n",
    "df['maintenance_log'] = df['log_number'].map(lambda log_number: [f\"issue_{int(log_number)}_log_{i+1}\" for i in range(len(extract_logs(df.loc[df['log_number'] == log_number, 'maintenance_log'].values[0])))])\n",
    "print(df)\n",
    "\n",
    "print(json.dumps(log_dict, indent=4))"
   ]
  },
  {
   "cell_type": "code",
   "execution_count": null,
   "metadata": {},
   "outputs": [],
   "source": [
    "#save df\n",
    "df.to_csv(\"../data/interim/final_df2.csv\", index=False)"
   ]
  },
  {
   "cell_type": "code",
   "execution_count": null,
   "metadata": {},
   "outputs": [],
   "source": [
    "# save json\n",
    "json_file_path = '../data/interim/maintenance_logs.json'\n",
    "with open(json_file_path, 'w') as json_file:\n",
    "    json.dump(log_dict, json_file, indent=4)\n"
   ]
  }
 ],
 "metadata": {
  "kernelspec": {
   "display_name": "env",
   "language": "python",
   "name": "python3"
  },
  "language_info": {
   "codemirror_mode": {
    "name": "ipython",
    "version": 3
   },
   "file_extension": ".py",
   "mimetype": "text/x-python",
   "name": "python",
   "nbconvert_exporter": "python",
   "pygments_lexer": "ipython3",
   "version": "3.12.6"
  }
 },
 "nbformat": 4,
 "nbformat_minor": 2
}
