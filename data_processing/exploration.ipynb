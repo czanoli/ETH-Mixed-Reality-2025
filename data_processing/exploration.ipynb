{
 "cells": [
  {
   "cell_type": "code",
   "execution_count": 1,
   "metadata": {},
   "outputs": [],
   "source": [
    "import pandas as pd"
   ]
  },
  {
   "cell_type": "code",
   "execution_count": 15,
   "metadata": {},
   "outputs": [],
   "source": [
    "df = pd.read_excel('logs.xlsx', sheet_name=\"Tabelle1\")"
   ]
  },
  {
   "cell_type": "code",
   "execution_count": 16,
   "metadata": {},
   "outputs": [
    {
     "name": "stdout",
     "output_type": "stream",
     "text": [
      "<class 'pandas.core.frame.DataFrame'>\n",
      "RangeIndex: 13515 entries, 0 to 13514\n",
      "Data columns (total 23 columns):\n",
      " #   Column                           Non-Null Count  Dtype         \n",
      "---  ------                           --------------  -----         \n",
      " 0   Besitzer Name_2 (TPL)            13515 non-null  object        \n",
      " 1   Fz-Familie (TPL)                 13515 non-null  object        \n",
      " 2   EFA Nr (MEL)                     13515 non-null  object        \n",
      " 3   DIN-Code UPG (H)                 13515 non-null  object        \n",
      " 4   Baugruppe (DIN-Code) (MEL)       13515 non-null  object        \n",
      " 5   Fz-Typ (TPL)                     13515 non-null  object        \n",
      " 6   Triebzug / EW (TPL)              13515 non-null  object        \n",
      " 7   Technischer Platz (TPL)          13515 non-null  object        \n",
      " 8   Störungsbeginn Datum (MEL)       13515 non-null  datetime64[ns]\n",
      " 9   Kurztext (MEL)                   13515 non-null  object        \n",
      " 10  Shorttext(en)                    0 non-null      float64       \n",
      " 11  Shorttext(zh)                    0 non-null      float64       \n",
      " 12  Langtext (MEL)                   13515 non-null  object        \n",
      " 13  Unnamed: 13                      0 non-null      float64       \n",
      " 14  Meldungsnummer (MEL)             13515 non-null  int64         \n",
      " 15  Material (CO)                    13515 non-null  object        \n",
      " 16  Material Bez (MAT)               13515 non-null  object        \n",
      " 17  Abschlussdatum (MEL)             13515 non-null  object        \n",
      " 18  Anzahl Meldungen                 13515 non-null  int64         \n",
      " 19  Anzahl Aufträge                  12462 non-null  float64       \n",
      " 20  Herstelleinzelkosten IST [CHF]   11512 non-null  float64       \n",
      " 21  Materialmenge IST                11512 non-null  float64       \n",
      " 22  Aufwand IST [h]                  11512 non-null  float64       \n",
      "dtypes: datetime64[ns](1), float64(7), int64(2), object(13)\n",
      "memory usage: 2.4+ MB\n"
     ]
    }
   ],
   "source": [
    "df.info()"
   ]
  },
  {
   "cell_type": "code",
   "execution_count": null,
   "metadata": {},
   "outputs": [],
   "source": []
  },
  {
   "cell_type": "code",
   "execution_count": null,
   "metadata": {},
   "outputs": [],
   "source": []
  }
 ],
 "metadata": {
  "kernelspec": {
   "display_name": "Python 3",
   "language": "python",
   "name": "python3"
  },
  "language_info": {
   "codemirror_mode": {
    "name": "ipython",
    "version": 3
   },
   "file_extension": ".py",
   "mimetype": "text/x-python",
   "name": "python",
   "nbconvert_exporter": "python",
   "pygments_lexer": "ipython3",
   "version": "3.12.6"
  }
 },
 "nbformat": 4,
 "nbformat_minor": 2
}
